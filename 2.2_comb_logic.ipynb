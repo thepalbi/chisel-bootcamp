{
 "cells": [
  {
   "cell_type": "markdown",
   "metadata": {},
   "source": [
    "<a name=\"top\"></a><img src=\"images/chisel_1024.png\" alt=\"Chisel logo\" style=\"width:480px;\" />"
   ]
  },
  {
   "cell_type": "markdown",
   "metadata": {
    "collapsed": true
   },
   "source": [
    "# Module 2.2: Combinational Logic\n",
    "**Prev: [Your First Chisel Module](2.1_first_module.ipynb)**<br>\n",
    "**Next: [Control Flow](2.3_control_flow.ipynb)**\n",
    "\n",
    "## Motivation\n",
    "In this section you will see how to use Chisel components to implement combinational logic.\n",
    "We will demonstrate how three of the basic Chisel types: `UInt `- unsigned integer; `SInt` - signed integer, and `Bool` - true or false may be connected and operated upon.\n",
    "Notice how all Chisel variables are declared as Scala `val`s.\n",
    "Never use a Scala `var` for a hardware construct, since the construct itself may never change once defined; only its value may change when running the hardware.\n",
    "Wires may be used for parameterized types.\n",
    "\n",
    "## Setup"
   ]
  },
  {
   "cell_type": "code",
   "execution_count": 1,
   "metadata": {},
   "outputs": [
    {
     "data": {
      "text/plain": [
       "\u001b[36mpath\u001b[39m: \u001b[32mString\u001b[39m = \u001b[32m\"C:\\\\dev\\\\chisel-bootcamp/source/load-ivy.sc\"\u001b[39m"
      ]
     },
     "execution_count": 1,
     "metadata": {},
     "output_type": "execute_result"
    }
   ],
   "source": [
    "val path = System.getProperty(\"user.dir\") + \"/source/load-ivy.sc\"\n",
    "interp.load.module(ammonite.ops.Path(java.nio.file.FileSystems.getDefault().getPath(path)))"
   ]
  },
  {
   "cell_type": "code",
   "execution_count": 2,
   "metadata": {},
   "outputs": [
    {
     "data": {
      "text/plain": [
       "\u001b[32mimport \u001b[39m\u001b[36mchisel3._\n",
       "\u001b[39m\r\n",
       "\u001b[32mimport \u001b[39m\u001b[36mchisel3.util._\n",
       "\u001b[39m\r\n",
       "\u001b[32mimport \u001b[39m\u001b[36mchisel3.tester._\n",
       "\u001b[39m\r\n",
       "\u001b[32mimport \u001b[39m\u001b[36mchisel3.tester.RawTester.test\u001b[39m"
      ]
     },
     "execution_count": 2,
     "metadata": {},
     "output_type": "execute_result"
    }
   ],
   "source": [
    "import chisel3._\n",
    "import chisel3.util._\n",
    "import chisel3.tester._\n",
    "import chisel3.tester.RawTester.test"
   ]
  },
  {
   "cell_type": "markdown",
   "metadata": {},
   "source": [
    "---\n",
    "# Common Operators\n",
    "Now that you understand how `Module`s are constructed, let's make some hardware! Take a look at the empty module below."
   ]
  },
  {
   "cell_type": "code",
   "execution_count": 3,
   "metadata": {},
   "outputs": [
    {
     "data": {
      "text/plain": [
       "defined \u001b[32mclass\u001b[39m \u001b[36mMyModule\u001b[39m"
      ]
     },
     "execution_count": 3,
     "metadata": {},
     "output_type": "execute_result"
    }
   ],
   "source": [
    "class MyModule extends Module {\n",
    "  val io = IO(new Bundle {\n",
    "    val in  = Input(UInt(4.W))\n",
    "    val out = Output(UInt(4.W))\n",
    "  })\n",
    "}"
   ]
  },
  {
   "cell_type": "markdown",
   "metadata": {},
   "source": [
    "We've called our class `MyModule`, and it extends `Module`. This means it gets mapped to a hardware module in Verilog. Our `MyModule` module has one input and one output. The input is a 4-bit unsigned integer (`UInt`), and so is the output. \n",
    "\n",
    "<span style=\"color:blue\">**Example: Scala and Chisel Operators Look the Same**</span><br>\n",
    "Let's look at different operations we can perform on data."
   ]
  },
  {
   "cell_type": "code",
   "execution_count": 4,
   "metadata": {},
   "outputs": [
    {
     "name": "stdout",
     "output_type": "stream",
     "text": [
      "Elaborating design...\n",
      "2\n",
      "UInt<1>(OpResult in MyModule)\n",
      "Done elaborating.\n",
      "module MyModule(\n",
      "  input        clock,\n",
      "  input        reset,\n",
      "  input  [3:0] io_in,\n",
      "  output [3:0] io_out\n",
      ");\n",
      "  assign io_out = io_in; // @[cmd3.sc 12:10]\n",
      "endmodule\n",
      "\n"
     ]
    },
    {
     "data": {
      "text/plain": [
       "defined \u001b[32mclass\u001b[39m \u001b[36mMyModule\u001b[39m"
      ]
     },
     "execution_count": 4,
     "metadata": {},
     "output_type": "execute_result"
    }
   ],
   "source": [
    "class MyModule extends Module {\n",
    "  val io = IO(new Bundle {\n",
    "    val in  = Input(UInt(4.W))\n",
    "    val out = Output(UInt(4.W))\n",
    "  })\n",
    "\n",
    "  val two  = 1 + 1\n",
    "  println(two)\n",
    "  val utwo = 1.U + 1.U\n",
    "  println(utwo)\n",
    "  \n",
    "  io.out := io.in\n",
    "}\n",
    "println(getVerilog(new MyModule))"
   ]
  },
  {
   "cell_type": "markdown",
   "metadata": {},
   "source": [
    "We create two `val`s. The first adds two Scala `Int`s, so `println` prints out the integer 2. The second `val` adds two *Chisel* `UInt`s together, so `println` sees this as a hardware node and prints out the type name and pointer (`chisel3.core.UInt@d`). Note that `1.U` is a type cast from a Scala `Int` (1) to a Chisel `UInt` literal.\n",
    "\n",
    "We need to drive the output to something, so we just connect it to the input for now, as with the passthrough module in the previous tutorial.\n",
    "\n",
    "<span style=\"color:blue\">**Example: Incompatible Operation**</span><br>\n",
    "What happens if we add a Chisel `1.U` to the literal `1`? These types are incompatible, as the former is a hardware wire of value 1, while the latter is a Scala value of 1. So Chisel will give a type mismatch error."
   ]
  },
  {
   "cell_type": "code",
   "execution_count": 4,
   "metadata": {},
   "outputs": [
    {
     "name": "stderr",
     "output_type": "stream",
     "text": [
      "cmd4.sc:7: type mismatch;\n",
      " found   : Int(1)\n",
      " required: chisel3.UInt\n",
      "  val twotwo = 1.U + 1\n",
      "                     ^Compilation Failed"
     ]
    },
    {
     "ename": "",
     "evalue": "",
     "output_type": "error",
     "traceback": [
      "Compilation Failed"
     ]
    }
   ],
   "source": [
    "class MyModuleTwo extends Module {\n",
    "  val io = IO(new Bundle {\n",
    "    val in  = Input(UInt(4.W))\n",
    "    val out = Output(UInt(4.W))\n",
    "  })\n",
    "\n",
    "  val twotwo = 1.U + 1\n",
    "  println(twotwo)\n",
    "  \n",
    "  io.out := io.in\n",
    "}\n",
    "println(getVerilog(new MyModuleTwo))"
   ]
  },
  {
   "cell_type": "markdown",
   "metadata": {},
   "source": [
    "It's important to remember the distinction between types when performing operations. Scala is a strongly typed language, so any type casting must be explicit.\n",
    "\n",
    "<span style=\"color:blue\">**Example: More Chisel Operators**</span><br>\n",
    "Other common operations are subtraction and multiplication. These are handled on unsigned integers as expected. Let's  see these in action. We show the Verilog, though there's some underlying Chisel features that obfuscate the simple code we would expect."
   ]
  },
  {
   "cell_type": "code",
   "execution_count": 5,
   "metadata": {},
   "outputs": [
    {
     "name": "stdout",
     "output_type": "stream",
     "text": [
      "Elaborating design...\n",
      "Done elaborating.\n",
      "module MyOperators(\n",
      "  input        clock,\n",
      "  input        reset,\n",
      "  input  [3:0] io_in,\n",
      "  output [3:0] io_out_add,\n",
      "  output [3:0] io_out_sub,\n",
      "  output [3:0] io_out_mul\n",
      ");\n",
      "  wire [1:0] _T_3 = 2'h2 - 2'h1; // @[cmd4.sc 10:21]\n",
      "  wire [4:0] _T_4 = 3'h4 * 2'h2; // @[cmd4.sc 11:21]\n",
      "  assign io_out_add = 4'h5; // @[cmd4.sc 9:21]\n",
      "  assign io_out_sub = {{2'd0}, _T_3}; // @[cmd4.sc 10:21]\n",
      "  assign io_out_mul = _T_4[3:0]; // @[cmd4.sc 11:14]\n",
      "endmodule\n",
      "\n"
     ]
    },
    {
     "data": {
      "text/plain": [
       "defined \u001b[32mclass\u001b[39m \u001b[36mMyOperators\u001b[39m"
      ]
     },
     "execution_count": 5,
     "metadata": {},
     "output_type": "execute_result"
    }
   ],
   "source": [
    "class MyOperators extends Module {\n",
    "  val io = IO(new Bundle {\n",
    "    val in      = Input(UInt(4.W))\n",
    "    val out_add = Output(UInt(4.W))\n",
    "    val out_sub = Output(UInt(4.W))\n",
    "    val out_mul = Output(UInt(4.W))\n",
    "  })\n",
    "\n",
    "  io.out_add := 1.U + 4.U\n",
    "  io.out_sub := 2.U - 1.U\n",
    "  io.out_mul := 4.U * 2.U\n",
    "}\n",
    "println(getVerilog(new MyOperators))"
   ]
  },
  {
   "cell_type": "markdown",
   "metadata": {},
   "source": [
    "And here's a sample tester for the above operations. Instead of using an anonymous tester class like in the previous tutorial, we'll create an explicit tester class. This is just an alternative way of writing a tester."
   ]
  },
  {
   "cell_type": "code",
   "execution_count": 6,
   "metadata": {},
   "outputs": [
    {
     "name": "stdout",
     "output_type": "stream",
     "text": [
      "Elaborating design...\n",
      "Done elaborating.\n",
      "test MyOperators Success: 0 tests passed in 2 cycles in 0.013662 seconds 146.40 Hz\n",
      "SUCCESS!!\n"
     ]
    }
   ],
   "source": [
    "test(new MyOperators) {c =>\n",
    "  c.io.out_add.expect(5.U)\n",
    "  c.io.out_sub.expect(1.U)\n",
    "  c.io.out_mul.expect(8.U)\n",
    "}\n",
    "println(\"SUCCESS!!\")"
   ]
  },
  {
   "cell_type": "markdown",
   "metadata": {},
   "source": [
    "<span style=\"color:blue\">**Example: Mux and Concatenation**</span><br>\n",
    "In addition to addition, subtraction, and multplication, Chisel has mux and concatenation operators. These are shown below. The `Mux` operates like a traditional ternary operator, with the order (select, value if true, value if false). Note that `true.B` and `false.B` are the preferred ways to create Chisel Bool literals. The `Cat` ordering is MSB then LSB (where B refers to bit or bits), and only takes two arguments. Concatenating more than two values requires multiple `Cat` calls or advanced Chisel and Scala features covered in later sections."
   ]
  },
  {
   "cell_type": "code",
   "execution_count": 7,
   "metadata": {},
   "outputs": [
    {
     "name": "stdout",
     "output_type": "stream",
     "text": [
      "Elaborating design...\n",
      "Done elaborating.\n",
      "module MyOperatorsTwo(\n",
      "  input        clock,\n",
      "  input        reset,\n",
      "  input  [3:0] io_in,\n",
      "  output [3:0] io_out_mux,\n",
      "  output [3:0] io_out_cat\n",
      ");\n",
      "  assign io_out_mux = 4'h3; // @[cmd6.sc 9:20]\n",
      "  assign io_out_cat = 4'h5; // @[Cat.scala 30:58]\n",
      "endmodule\n",
      "\n",
      "Elaborating design...\n",
      "Done elaborating.\n",
      "test MyOperatorsTwo Success: 0 tests passed in 2 cycles in 0.001233 seconds 1622.19 Hz\n",
      "SUCCESS!!\n"
     ]
    },
    {
     "data": {
      "text/plain": [
       "defined \u001b[32mclass\u001b[39m \u001b[36mMyOperatorsTwo\u001b[39m"
      ]
     },
     "execution_count": 7,
     "metadata": {},
     "output_type": "execute_result"
    }
   ],
   "source": [
    "class MyOperatorsTwo extends Module {\n",
    "  val io = IO(new Bundle {\n",
    "    val in      = Input(UInt(4.W))\n",
    "    val out_mux = Output(UInt(4.W))\n",
    "    val out_cat = Output(UInt(4.W))\n",
    "  })\n",
    "\n",
    "  val s = true.B\n",
    "  io.out_mux := Mux(s, 3.U, 0.U) // should return 3.U, since s is true\n",
    "  io.out_cat := Cat(2.U, 1.U)    // concatenates 2 (b10) with 1 (b1) to give 5 (101)\n",
    "}\n",
    "\n",
    "println(getVerilog(new MyOperatorsTwo))\n",
    "\n",
    "test(new MyOperatorsTwo) { c =>\n",
    "  c.io.out_mux.expect(3.U)\n",
    "  c.io.out_cat.expect(5.U)\n",
    "}\n",
    "println(\"SUCCESS!!\")"
   ]
  },
  {
   "cell_type": "markdown",
   "metadata": {
    "collapsed": true
   },
   "source": [
    "Notice how the Verilog contains constants instead of actual mux or concatenation logic. This is because FIRRTL transformations have simplified the circuit, eliminating obvious logic. \n",
    "\n",
    "For a more complete list of Chisel operators, see the [Chisel cheatsheet](https://github.com/freechipsproject/chisel-cheatsheet/releases/latest/download/chisel_cheatsheet.pdf). For the most complete list of operators and their implementation details, look through the [Chisel API](https://chisel-lang.org/api/latest/)."
   ]
  },
  {
   "cell_type": "markdown",
   "metadata": {},
   "source": [
    "---\n",
    "# Exercises\n",
    "To complete these exercises, you may need to look through the [Chisel cheatsheet](https://github.com/freechipsproject/chisel-cheatsheet/releases/latest/download/chisel_cheatsheet.pdf)."
   ]
  },
  {
   "cell_type": "markdown",
   "metadata": {},
   "source": [
    "<span style=\"color:red\">**Exercise: MAC**</span><br>\n",
    "Create a Chisel module that implements the multiply accumulate function, `(A*B)+C`, and passes the testbench."
   ]
  },
  {
   "cell_type": "code",
   "execution_count": 10,
   "metadata": {},
   "outputs": [
    {
     "name": "stdout",
     "output_type": "stream",
     "text": [
      "Elaborating design...\n",
      "Done elaborating.\n",
      "test MAC Success: 0 tests passed in 2 cycles in 0.007574 seconds 264.06 Hz\n",
      "SUCCESS!!\n"
     ]
    },
    {
     "data": {
      "text/plain": [
       "defined \u001b[32mclass\u001b[39m \u001b[36mMAC\u001b[39m"
      ]
     },
     "execution_count": 10,
     "metadata": {},
     "output_type": "execute_result"
    }
   ],
   "source": [
    "class MAC extends Module {\n",
    "  val io = IO(new Bundle {\n",
    "    val in_a = Input(UInt(4.W))\n",
    "    val in_b = Input(UInt(4.W))\n",
    "    val in_c = Input(UInt(4.W))\n",
    "    val out  = Output(UInt(8.W))\n",
    "  })\n",
    "\n",
    "  io.out := (io.in_a * io.in_b) + io.in_c\n",
    "}\n",
    "\n",
    "test(new MAC) { c =>\n",
    "  val cycles = 100\n",
    "  import scala.util.Random\n",
    "  for (i <- 0 until cycles) {\n",
    "    val in_a = Random.nextInt(16)\n",
    "    val in_b = Random.nextInt(16)\n",
    "    val in_c = Random.nextInt(16)\n",
    "    c.io.in_a.poke(in_a.U)\n",
    "    c.io.in_b.poke(in_b.U)\n",
    "    c.io.in_c.poke(in_c.U)\n",
    "    c.io.out.expect((in_a * in_b + in_c).U)\n",
    "  }\n",
    "}\n",
    "println(\"SUCCESS!!\")"
   ]
  },
  {
   "cell_type": "markdown",
   "metadata": {},
   "source": [
    "<div id=\"container\"><section id=\"accordion\"><div>\n",
    "<input type=\"checkbox\" id=\"check-1\" />\n",
    "<label for=\"check-1\"><strong>Solution</strong></label>\n",
    "<article>\n",
    "<pre style=\"background-color:#f7f7f7\">\n",
    "class MAC extends Module {\n",
    "  val io = IO(new Bundle {\n",
    "    val in_a = Input(UInt(4.W))\n",
    "    val in_b = Input(UInt(4.W))\n",
    "    val in_c = Input(UInt(4.W))\n",
    "    val out  = Output(UInt(8.W))\n",
    "  })\n",
    "\n",
    "  io.out := (io.in_a * io.in_b) + io.in_c\n",
    "}\n",
    "</pre></article></div></section></div>"
   ]
  },
  {
   "cell_type": "markdown",
   "metadata": {
    "collapsed": true
   },
   "source": [
    "<span style=\"color:red\">**Exercise: Arbiter**</span><br>\n",
    "The following circuit arbitrates data coming from a FIFO into two parallel processing units. The FIFO and processing elements (PEs) communicate with ready-valid interfaces. Construct the arbiter to send data to whichever PE is ready to receive data, prioritizing PE0 if both are ready to receive data. Remember that the arbiter should tell the FIFO that it's ready to receive data when at least one of the PEs can receive data. Also, wait for a PE to assert that it's ready before asserting that the data are valid. You will likely need binary operators to complete this exercise.\n",
    "\n",
    "<img src=\"images/arbiter.png\" width=\"687\" height=\"177\">"
   ]
  },
  {
   "cell_type": "code",
   "execution_count": 15,
   "metadata": {},
   "outputs": [
    {
     "name": "stdout",
     "output_type": "stream",
     "text": [
      "Elaborating design...\n",
      "Done elaborating.\n",
      "module Arbiter(\n",
      "  input         clock,\n",
      "  input         reset,\n",
      "  input         io_fifo_valid,\n",
      "  output        io_fifo_ready,\n",
      "  input  [15:0] io_fifo_data,\n",
      "  output        io_pe0_valid,\n",
      "  input         io_pe0_ready,\n",
      "  output [15:0] io_pe0_data,\n",
      "  output        io_pe1_valid,\n",
      "  input         io_pe1_ready,\n",
      "  output [15:0] io_pe1_data\n",
      ");\n",
      "  assign io_fifo_ready = io_pe0_ready | io_pe1_ready; // @[cmd14.sc 19:36]\n",
      "  assign io_pe0_valid = io_fifo_valid & io_pe0_ready; // @[cmd14.sc 23:33]\n",
      "  assign io_pe0_data = io_fifo_data; // @[cmd14.sc 27:15]\n",
      "  assign io_pe1_valid = io_fifo_valid & io_pe1_ready & ~io_pe0_ready; // @[cmd14.sc 24:49]\n",
      "  assign io_pe1_data = io_fifo_data; // @[cmd14.sc 28:15]\n",
      "endmodule\n",
      "\n"
     ]
    },
    {
     "data": {
      "text/html": [
       "<div width=\"100%\" height=\"100%\" overflow=\"scroll\"><?xml version=\"1.0\" encoding=\"UTF-8\" standalone=\"no\"?>\r\n",
       "<?xml-stylesheet href=\"styles.css\" type=\"text/css\"?>\r\n",
       "<!DOCTYPE svg PUBLIC \"-//W3C//DTD SVG 1.1//EN\"\r\n",
       " \"http://www.w3.org/Graphics/SVG/1.1/DTD/svg11.dtd\">\r\n",
       "<!-- Generated by graphviz version 9.0.0 (20230911.1827)\r\n",
       " -->\r\n",
       "<!-- Title: Arbiter Pages: 1 -->\r\n",
       "<svg width=\"511pt\" height=\"436pt\"\r\n",
       " viewBox=\"0.00 0.00 511.25 436.00\" xmlns=\"http://www.w3.org/2000/svg\" xmlns:xlink=\"http://www.w3.org/1999/xlink\">\r\n",
       "<g id=\"graph0\" class=\"graph\" transform=\"scale(1 1) rotate(0) translate(4 432)\">\r\n",
       "<title>Arbiter</title>\r\n",
       "<polygon fill=\"white\" stroke=\"none\" points=\"-4,4 -4,-432 507.25,-432 507.25,4 -4,4\"/>\r\n",
       "<g id=\"clust1\" class=\"cluster\">\r\n",
       "<title>cluster_Arbiter</title>\r\n",
       "<polygon fill=\"#fff8dc\" stroke=\"black\" points=\"8,-8 8,-420 495.25,-420 495.25,-8 8,-8\"/>\r\n",
       "<text text-anchor=\"middle\" x=\"251.62\" y=\"-402.7\" font-family=\"Times New Roman,serif\" font-size=\"14.00\">Arbiter</text>\r\n",
       "</g>\r\n",
       "<!-- cluster_Arbiter_clock -->\r\n",
       "<g id=\"node1\" class=\"node\">\r\n",
       "<title>cluster_Arbiter_clock</title>\r\n",
       "<polygon fill=\"#cccccc\" stroke=\"black\" points=\"89.25,-388 35.25,-388 35.25,-352 89.25,-352 89.25,-388\"/>\r\n",
       "<text text-anchor=\"middle\" x=\"62.25\" y=\"-364.57\" font-family=\"Times New Roman,serif\" font-size=\"14.00\">clock</text>\r\n",
       "</g>\r\n",
       "<!-- cluster_Arbiter_reset -->\r\n",
       "<g id=\"node2\" class=\"node\">\r\n",
       "<title>cluster_Arbiter_reset</title>\r\n",
       "<polygon fill=\"#cccccc\" stroke=\"black\" points=\"89.25,-334 35.25,-334 35.25,-298 89.25,-298 89.25,-334\"/>\r\n",
       "<text text-anchor=\"middle\" x=\"62.25\" y=\"-310.57\" font-family=\"Times New Roman,serif\" font-size=\"14.00\">reset</text>\r\n",
       "</g>\r\n",
       "<!-- cluster_Arbiter_io_fifo_valid -->\r\n",
       "<g id=\"node3\" class=\"node\">\r\n",
       "<title>cluster_Arbiter_io_fifo_valid</title>\r\n",
       "<polygon fill=\"#cccccc\" stroke=\"black\" points=\"105.88,-216 18.62,-216 18.62,-180 105.88,-180 105.88,-216\"/>\r\n",
       "<text text-anchor=\"middle\" x=\"62.25\" y=\"-192.57\" font-family=\"Times New Roman,serif\" font-size=\"14.00\">io_fifo_valid</text>\r\n",
       "</g>\r\n",
       "<!-- op_and_2 -->\r\n",
       "<g id=\"node13\" class=\"node\">\r\n",
       "<title>op_and_2</title>\r\n",
       "<polygon fill=\"#d8bfd8\" stroke=\"none\" points=\"152.5,-226 152.5,-276 227.5,-276 227.5,-226 152.5,-226\"/>\r\n",
       "<polygon fill=\"none\" stroke=\"black\" points=\"152.5,-251 152.5,-276 171.5,-276 171.5,-251 152.5,-251\"/>\r\n",
       "<text text-anchor=\"start\" x=\"157.5\" y=\"-257.7\" font-family=\"Times New Roman,serif\" font-size=\"14.00\">●</text>\r\n",
       "<polygon fill=\"none\" stroke=\"black\" points=\"171.5,-226 171.5,-276 208.5,-276 208.5,-226 171.5,-226\"/>\r\n",
       "<text text-anchor=\"start\" x=\"176.12\" y=\"-245.57\" font-family=\"Times New Roman,serif\" font-size=\"14.00\"> and </text>\r\n",
       "<polygon fill=\"none\" stroke=\"black\" points=\"208.5,-226 208.5,-276 227.5,-276 227.5,-226 208.5,-226\"/>\r\n",
       "<text text-anchor=\"start\" x=\"213.5\" y=\"-245.57\" font-family=\"Times New Roman,serif\" font-size=\"14.00\">●</text>\r\n",
       "<polygon fill=\"none\" stroke=\"black\" points=\"152.5,-226 152.5,-251 171.5,-251 171.5,-226 152.5,-226\"/>\r\n",
       "<text text-anchor=\"start\" x=\"157.5\" y=\"-232.7\" font-family=\"Times New Roman,serif\" font-size=\"14.00\">●</text>\r\n",
       "</g>\r\n",
       "<!-- cluster_Arbiter_io_fifo_valid&#45;&gt;op_and_2 -->\r\n",
       "<g id=\"edge3\" class=\"edge\">\r\n",
       "<title>cluster_Arbiter_io_fifo_valid&#45;&gt;op_and_2:in1</title>\r\n",
       "<path fill=\"none\" stroke=\"black\" d=\"M86.25,-216.38C104.15,-230.57 128.12,-249.28 141.42,-258.45\"/>\r\n",
       "<polygon fill=\"black\" stroke=\"black\" points=\"139.28,-261.26 149.69,-263.24 142.79,-255.2 139.28,-261.26\"/>\r\n",
       "</g>\r\n",
       "<!-- op_and_4 -->\r\n",
       "<g id=\"node15\" class=\"node\">\r\n",
       "<title>op_and_4</title>\r\n",
       "<polygon fill=\"#d8bfd8\" stroke=\"none\" points=\"152.5,-150 152.5,-200 227.5,-200 227.5,-150 152.5,-150\"/>\r\n",
       "<polygon fill=\"none\" stroke=\"black\" points=\"152.5,-175 152.5,-200 171.5,-200 171.5,-175 152.5,-175\"/>\r\n",
       "<text text-anchor=\"start\" x=\"157.5\" y=\"-181.7\" font-family=\"Times New Roman,serif\" font-size=\"14.00\">●</text>\r\n",
       "<polygon fill=\"none\" stroke=\"black\" points=\"171.5,-150 171.5,-200 208.5,-200 208.5,-150 171.5,-150\"/>\r\n",
       "<text text-anchor=\"start\" x=\"176.12\" y=\"-169.57\" font-family=\"Times New Roman,serif\" font-size=\"14.00\"> and </text>\r\n",
       "<polygon fill=\"none\" stroke=\"black\" points=\"208.5,-150 208.5,-200 227.5,-200 227.5,-150 208.5,-150\"/>\r\n",
       "<text text-anchor=\"start\" x=\"213.5\" y=\"-169.57\" font-family=\"Times New Roman,serif\" font-size=\"14.00\">●</text>\r\n",
       "<polygon fill=\"none\" stroke=\"black\" points=\"152.5,-150 152.5,-175 171.5,-175 171.5,-150 152.5,-150\"/>\r\n",
       "<text text-anchor=\"start\" x=\"157.5\" y=\"-156.7\" font-family=\"Times New Roman,serif\" font-size=\"14.00\">●</text>\r\n",
       "</g>\r\n",
       "<!-- cluster_Arbiter_io_fifo_valid&#45;&gt;op_and_4 -->\r\n",
       "<g id=\"edge11\" class=\"edge\">\r\n",
       "<title>cluster_Arbiter_io_fifo_valid&#45;&gt;op_and_4:in1</title>\r\n",
       "<path fill=\"none\" stroke=\"black\" d=\"M105.99,-191.16C116.69,-189.85 128.38,-188.73 139.76,-188.25\"/>\r\n",
       "<polygon fill=\"black\" stroke=\"black\" points=\"139.57,-191.75 149.49,-188.03 139.41,-184.75 139.57,-191.75\"/>\r\n",
       "</g>\r\n",
       "<!-- cluster_Arbiter_io_fifo_data -->\r\n",
       "<g id=\"node4\" class=\"node\">\r\n",
       "<title>cluster_Arbiter_io_fifo_data</title>\r\n",
       "<polygon fill=\"#cccccc\" stroke=\"black\" points=\"104.38,-280 20.12,-280 20.12,-244 104.38,-244 104.38,-280\"/>\r\n",
       "<text text-anchor=\"middle\" x=\"62.25\" y=\"-256.57\" font-family=\"Times New Roman,serif\" font-size=\"14.00\">io_fifo_data</text>\r\n",
       "</g>\r\n",
       "<!-- cluster_Arbiter_io_pe0_data -->\r\n",
       "<g id=\"node9\" class=\"node\">\r\n",
       "<title>cluster_Arbiter_io_pe0_data</title>\r\n",
       "<polygon fill=\"#e0ffff\" stroke=\"black\" points=\"232.5,-334 147.5,-334 147.5,-298 232.5,-298 232.5,-334\"/>\r\n",
       "<text text-anchor=\"middle\" x=\"190\" y=\"-310.57\" font-family=\"Times New Roman,serif\" font-size=\"14.00\">io_pe0_data</text>\r\n",
       "</g>\r\n",
       "<!-- cluster_Arbiter_io_fifo_data&#45;&gt;cluster_Arbiter_io_pe0_data -->\r\n",
       "<g id=\"edge14\" class=\"edge\">\r\n",
       "<title>cluster_Arbiter_io_fifo_data&#45;&gt;cluster_Arbiter_io_pe0_data</title>\r\n",
       "<path fill=\"none\" stroke=\"black\" d=\"M104.77,-279.83C114.97,-284.21 126.01,-288.95 136.64,-293.52\"/>\r\n",
       "<polygon fill=\"black\" stroke=\"black\" points=\"135.13,-296.68 145.7,-297.41 137.89,-290.24 135.13,-296.68\"/>\r\n",
       "</g>\r\n",
       "<!-- cluster_Arbiter_io_pe1_data -->\r\n",
       "<g id=\"node11\" class=\"node\">\r\n",
       "<title>cluster_Arbiter_io_pe1_data</title>\r\n",
       "<polygon fill=\"#e0ffff\" stroke=\"black\" points=\"232.5,-388 147.5,-388 147.5,-352 232.5,-352 232.5,-388\"/>\r\n",
       "<text text-anchor=\"middle\" x=\"190\" y=\"-364.57\" font-family=\"Times New Roman,serif\" font-size=\"14.00\">io_pe1_data</text>\r\n",
       "</g>\r\n",
       "<!-- cluster_Arbiter_io_fifo_data&#45;&gt;cluster_Arbiter_io_pe1_data -->\r\n",
       "<g id=\"edge4\" class=\"edge\">\r\n",
       "<title>cluster_Arbiter_io_fifo_data&#45;&gt;cluster_Arbiter_io_pe1_data</title>\r\n",
       "<path fill=\"none\" stroke=\"black\" d=\"M97.56,-280.19C101.44,-282.9 105.19,-285.85 108.5,-289 129.4,-308.88 123.67,-323.04 144.5,-343 145.11,-343.59 145.74,-344.17 146.38,-344.74\"/>\r\n",
       "<polygon fill=\"black\" stroke=\"black\" points=\"144.06,-347.37 154.08,-350.82 148.4,-341.88 144.06,-347.37\"/>\r\n",
       "</g>\r\n",
       "<!-- cluster_Arbiter_io_pe0_ready -->\r\n",
       "<g id=\"node5\" class=\"node\">\r\n",
       "<title>cluster_Arbiter_io_pe0_ready</title>\r\n",
       "<polygon fill=\"#cccccc\" stroke=\"black\" points=\"108.5,-128 16,-128 16,-92 108.5,-92 108.5,-128\"/>\r\n",
       "<text text-anchor=\"middle\" x=\"62.25\" y=\"-104.58\" font-family=\"Times New Roman,serif\" font-size=\"14.00\">io_pe0_ready</text>\r\n",
       "</g>\r\n",
       "<!-- op_or_1 -->\r\n",
       "<g id=\"node12\" class=\"node\">\r\n",
       "<title>op_or_1</title>\r\n",
       "<polygon fill=\"#d8bfd8\" stroke=\"none\" points=\"156.5,-20 156.5,-70 223.5,-70 223.5,-20 156.5,-20\"/>\r\n",
       "<polygon fill=\"none\" stroke=\"black\" points=\"156.5,-45 156.5,-70 175.5,-70 175.5,-45 156.5,-45\"/>\r\n",
       "<text text-anchor=\"start\" x=\"161.5\" y=\"-51.7\" font-family=\"Times New Roman,serif\" font-size=\"14.00\">●</text>\r\n",
       "<polygon fill=\"none\" stroke=\"black\" points=\"175.5,-20 175.5,-70 204.5,-70 204.5,-20 175.5,-20\"/>\r\n",
       "<text text-anchor=\"start\" x=\"180.25\" y=\"-39.58\" font-family=\"Times New Roman,serif\" font-size=\"14.00\"> or </text>\r\n",
       "<polygon fill=\"none\" stroke=\"black\" points=\"204.5,-20 204.5,-70 223.5,-70 223.5,-20 204.5,-20\"/>\r\n",
       "<text text-anchor=\"start\" x=\"209.5\" y=\"-39.58\" font-family=\"Times New Roman,serif\" font-size=\"14.00\">●</text>\r\n",
       "<polygon fill=\"none\" stroke=\"black\" points=\"156.5,-20 156.5,-45 175.5,-45 175.5,-20 156.5,-20\"/>\r\n",
       "<text text-anchor=\"start\" x=\"161.5\" y=\"-26.7\" font-family=\"Times New Roman,serif\" font-size=\"14.00\">●</text>\r\n",
       "</g>\r\n",
       "<!-- cluster_Arbiter_io_pe0_ready&#45;&gt;op_or_1 -->\r\n",
       "<g id=\"edge13\" class=\"edge\">\r\n",
       "<title>cluster_Arbiter_io_pe0_ready&#45;&gt;op_or_1:in1</title>\r\n",
       "<path fill=\"none\" stroke=\"black\" d=\"M82.25,-91.52C97.3,-78.62 119.71,-63.01 143.57,-58.98\"/>\r\n",
       "<polygon fill=\"black\" stroke=\"black\" points=\"143.83,-62.48 153.49,-58.13 143.23,-55.5 143.83,-62.48\"/>\r\n",
       "</g>\r\n",
       "<!-- cluster_Arbiter_io_pe0_ready&#45;&gt;op_and_2 -->\r\n",
       "<g id=\"edge12\" class=\"edge\">\r\n",
       "<title>cluster_Arbiter_io_pe0_ready&#45;&gt;op_and_2:in2</title>\r\n",
       "<path fill=\"none\" stroke=\"black\" d=\"M76.52,-128.14C95.44,-153.76 129.53,-199 144.5,-213 147.3,-215.62 150.71,-216.53 153.78,-217.33\"/>\r\n",
       "<polygon fill=\"black\" stroke=\"black\" points=\"151.19,-219.7 160.89,-223.97 155.97,-214.59 151.19,-219.7\"/>\r\n",
       "</g>\r\n",
       "<!-- op_not_5 -->\r\n",
       "<g id=\"node16\" class=\"node\">\r\n",
       "<title>op_not_5</title>\r\n",
       "<polygon fill=\"#d8bfd8\" stroke=\"none\" points=\"153.25,-97.12 153.25,-122.88 226.75,-122.88 226.75,-97.12 153.25,-97.12\"/>\r\n",
       "<polygon fill=\"none\" stroke=\"black\" points=\"153.25,-97.12 153.25,-122.88 172.25,-122.88 172.25,-97.12 153.25,-97.12\"/>\r\n",
       "<text text-anchor=\"start\" x=\"158.25\" y=\"-104.58\" font-family=\"Times New Roman,serif\" font-size=\"14.00\">●</text>\r\n",
       "<polygon fill=\"none\" stroke=\"black\" points=\"172.25,-97.12 172.25,-122.88 207.75,-122.88 207.75,-97.12 172.25,-97.12\"/>\r\n",
       "<text text-anchor=\"start\" x=\"177.25\" y=\"-104.58\" font-family=\"Times New Roman,serif\" font-size=\"14.00\"> not </text>\r\n",
       "<polygon fill=\"none\" stroke=\"black\" points=\"207.75,-97.12 207.75,-122.88 226.75,-122.88 226.75,-97.12 207.75,-97.12\"/>\r\n",
       "<text text-anchor=\"start\" x=\"212.75\" y=\"-104.58\" font-family=\"Times New Roman,serif\" font-size=\"14.00\">●</text>\r\n",
       "</g>\r\n",
       "<!-- cluster_Arbiter_io_pe0_ready&#45;&gt;op_not_5 -->\r\n",
       "<g id=\"edge5\" class=\"edge\">\r\n",
       "<title>cluster_Arbiter_io_pe0_ready&#45;&gt;op_not_5:in1</title>\r\n",
       "<path fill=\"none\" stroke=\"black\" d=\"M108.86,-110C119.03,-110 129.97,-110 140.61,-110\"/>\r\n",
       "<polygon fill=\"black\" stroke=\"black\" points=\"140.49,-113.5 150.49,-110 140.49,-106.5 140.49,-113.5\"/>\r\n",
       "</g>\r\n",
       "<!-- cluster_Arbiter_io_pe1_ready -->\r\n",
       "<g id=\"node6\" class=\"node\">\r\n",
       "<title>cluster_Arbiter_io_pe1_ready</title>\r\n",
       "<polygon fill=\"#cccccc\" stroke=\"black\" points=\"108.5,-63 16,-63 16,-27 108.5,-27 108.5,-63\"/>\r\n",
       "<text text-anchor=\"middle\" x=\"62.25\" y=\"-39.58\" font-family=\"Times New Roman,serif\" font-size=\"14.00\">io_pe1_ready</text>\r\n",
       "</g>\r\n",
       "<!-- cluster_Arbiter_io_pe1_ready&#45;&gt;op_or_1 -->\r\n",
       "<g id=\"edge9\" class=\"edge\">\r\n",
       "<title>cluster_Arbiter_io_pe1_ready&#45;&gt;op_or_1:in2</title>\r\n",
       "<path fill=\"none\" stroke=\"black\" d=\"M108.81,-35.97C119.93,-34.29 132.04,-32.88 143.83,-32.29\"/>\r\n",
       "<polygon fill=\"black\" stroke=\"black\" points=\"143.58,-35.8 153.49,-32.04 143.4,-28.8 143.58,-35.8\"/>\r\n",
       "</g>\r\n",
       "<!-- cluster_Arbiter_io_pe1_ready&#45;&gt;op_and_4 -->\r\n",
       "<g id=\"edge7\" class=\"edge\">\r\n",
       "<title>cluster_Arbiter_io_pe1_ready&#45;&gt;op_and_4:in2</title>\r\n",
       "<path fill=\"none\" stroke=\"black\" d=\"M87.42,-63.15C94.59,-69.08 102.21,-75.97 108.5,-83 127.74,-104.49 124.24,-116.47 144.5,-137 147.19,-139.73 150.58,-140.66 153.66,-141.44\"/>\r\n",
       "<polygon fill=\"black\" stroke=\"black\" points=\"151.12,-143.86 160.88,-147.98 155.82,-138.67 151.12,-143.86\"/>\r\n",
       "</g>\r\n",
       "<!-- cluster_Arbiter_io_fifo_ready -->\r\n",
       "<g id=\"node7\" class=\"node\">\r\n",
       "<title>cluster_Arbiter_io_fifo_ready</title>\r\n",
       "<polygon fill=\"#e0ffff\" stroke=\"black\" points=\"363.25,-63 271.5,-63 271.5,-27 363.25,-27 363.25,-63\"/>\r\n",
       "<text text-anchor=\"middle\" x=\"317.38\" y=\"-39.58\" font-family=\"Times New Roman,serif\" font-size=\"14.00\">io_fifo_ready</text>\r\n",
       "</g>\r\n",
       "<!-- cluster_Arbiter_io_pe0_valid -->\r\n",
       "<g id=\"node8\" class=\"node\">\r\n",
       "<title>cluster_Arbiter_io_pe0_valid</title>\r\n",
       "<polygon fill=\"#e0ffff\" stroke=\"black\" points=\"361.38,-269 273.38,-269 273.38,-233 361.38,-233 361.38,-269\"/>\r\n",
       "<text text-anchor=\"middle\" x=\"317.38\" y=\"-245.57\" font-family=\"Times New Roman,serif\" font-size=\"14.00\">io_pe0_valid</text>\r\n",
       "</g>\r\n",
       "<!-- cluster_Arbiter_io_pe1_valid -->\r\n",
       "<g id=\"node10\" class=\"node\">\r\n",
       "<title>cluster_Arbiter_io_pe1_valid</title>\r\n",
       "<polygon fill=\"#e0ffff\" stroke=\"black\" points=\"487.25,-160 399.25,-160 399.25,-124 487.25,-124 487.25,-160\"/>\r\n",
       "<text text-anchor=\"middle\" x=\"443.25\" y=\"-136.57\" font-family=\"Times New Roman,serif\" font-size=\"14.00\">io_pe1_valid</text>\r\n",
       "</g>\r\n",
       "<!-- op_or_1&#45;&gt;cluster_Arbiter_io_fifo_ready -->\r\n",
       "<g id=\"edge1\" class=\"edge\">\r\n",
       "<title>op_or_1:out&#45;&gt;cluster_Arbiter_io_fifo_ready</title>\r\n",
       "<path fill=\"none\" stroke=\"black\" d=\"M225,-45C236.3,-45 248.39,-45 259.95,-45\"/>\r\n",
       "<polygon fill=\"black\" stroke=\"black\" points=\"259.78,-48.5 269.78,-45 259.78,-41.5 259.78,-48.5\"/>\r\n",
       "</g>\r\n",
       "<!-- op_and_2&#45;&gt;cluster_Arbiter_io_pe0_valid -->\r\n",
       "<g id=\"edge10\" class=\"edge\">\r\n",
       "<title>op_and_2:out&#45;&gt;cluster_Arbiter_io_pe0_valid</title>\r\n",
       "<path fill=\"none\" stroke=\"black\" d=\"M229,-251C239.7,-251 251.13,-251 262.08,-251\"/>\r\n",
       "<polygon fill=\"black\" stroke=\"black\" points=\"261.75,-254.5 271.75,-251 261.75,-247.5 261.75,-254.5\"/>\r\n",
       "</g>\r\n",
       "<!-- op_and_3 -->\r\n",
       "<g id=\"node14\" class=\"node\">\r\n",
       "<title>op_and_3</title>\r\n",
       "<polygon fill=\"#d8bfd8\" stroke=\"none\" points=\"279.88,-117 279.88,-167 354.88,-167 354.88,-117 279.88,-117\"/>\r\n",
       "<polygon fill=\"none\" stroke=\"black\" points=\"279.88,-142 279.88,-167 298.88,-167 298.88,-142 279.88,-142\"/>\r\n",
       "<text text-anchor=\"start\" x=\"284.88\" y=\"-148.7\" font-family=\"Times New Roman,serif\" font-size=\"14.00\">●</text>\r\n",
       "<polygon fill=\"none\" stroke=\"black\" points=\"298.88,-117 298.88,-167 335.88,-167 335.88,-117 298.88,-117\"/>\r\n",
       "<text text-anchor=\"start\" x=\"303.5\" y=\"-136.57\" font-family=\"Times New Roman,serif\" font-size=\"14.00\"> and </text>\r\n",
       "<polygon fill=\"none\" stroke=\"black\" points=\"335.88,-117 335.88,-167 354.88,-167 354.88,-117 335.88,-117\"/>\r\n",
       "<text text-anchor=\"start\" x=\"340.88\" y=\"-136.57\" font-family=\"Times New Roman,serif\" font-size=\"14.00\">●</text>\r\n",
       "<polygon fill=\"none\" stroke=\"black\" points=\"279.88,-117 279.88,-142 298.88,-142 298.88,-117 279.88,-117\"/>\r\n",
       "<text text-anchor=\"start\" x=\"284.88\" y=\"-123.7\" font-family=\"Times New Roman,serif\" font-size=\"14.00\">●</text>\r\n",
       "</g>\r\n",
       "<!-- op_and_3&#45;&gt;cluster_Arbiter_io_pe1_valid -->\r\n",
       "<g id=\"edge6\" class=\"edge\">\r\n",
       "<title>op_and_3:out&#45;&gt;cluster_Arbiter_io_pe1_valid</title>\r\n",
       "<path fill=\"none\" stroke=\"black\" d=\"M356.38,-142C366.45,-142 377.19,-142 387.54,-142\"/>\r\n",
       "<polygon fill=\"black\" stroke=\"black\" points=\"387.49,-145.5 397.49,-142 387.49,-138.5 387.49,-145.5\"/>\r\n",
       "</g>\r\n",
       "<!-- op_and_4&#45;&gt;op_and_3 -->\r\n",
       "<g id=\"edge8\" class=\"edge\">\r\n",
       "<title>op_and_4:out&#45;&gt;op_and_3:in1</title>\r\n",
       "<path fill=\"none\" stroke=\"black\" d=\"M229,-175C248.24,-175 253.18,-161.8 267.06,-156.85\"/>\r\n",
       "<polygon fill=\"black\" stroke=\"black\" points=\"267.57,-160.31 276.88,-155.24 266.45,-153.4 267.57,-160.31\"/>\r\n",
       "</g>\r\n",
       "<!-- op_not_5&#45;&gt;op_and_3 -->\r\n",
       "<g id=\"edge2\" class=\"edge\">\r\n",
       "<title>op_not_5:out&#45;&gt;op_and_3:in2</title>\r\n",
       "<path fill=\"none\" stroke=\"black\" d=\"M228,-110C247.63,-110 252.85,-122.79 267.3,-127.38\"/>\r\n",
       "<polygon fill=\"black\" stroke=\"black\" points=\"266.48,-130.8 276.88,-128.78 267.49,-123.87 266.48,-130.8\"/>\r\n",
       "</g>\r\n",
       "</g>\r\n",
       "</svg>\r\n",
       "</div>"
      ]
     },
     "metadata": {},
     "output_type": "display_data"
    },
    {
     "data": {
      "text/plain": [
       "defined \u001b[32mclass\u001b[39m \u001b[36mArbiter\u001b[39m"
      ]
     },
     "execution_count": 15,
     "metadata": {},
     "output_type": "execute_result"
    }
   ],
   "source": [
    "class Arbiter extends Module {\n",
    "  val io = IO(new Bundle {\n",
    "    // FIFO\n",
    "    val fifo_valid = Input(Bool())\n",
    "    val fifo_ready = Output(Bool())\n",
    "    val fifo_data  = Input(UInt(16.W))\n",
    "    \n",
    "    // PE0\n",
    "    val pe0_valid  = Output(Bool())\n",
    "    val pe0_ready  = Input(Bool())\n",
    "    val pe0_data   = Output(UInt(16.W))\n",
    "    \n",
    "    // PE1\n",
    "    val pe1_valid  = Output(Bool())\n",
    "    val pe1_ready  = Input(Bool())\n",
    "    val pe1_data   = Output(UInt(16.W))\n",
    "  })\n",
    "\n",
    "  val some_pe_ready = io.pe0_ready || io.pe1_ready;\n",
    "  // First send a ready to the fifo if one of the PEs are ready to receive\n",
    "  io.fifo_ready := some_pe_ready;\n",
    "    \n",
    "  io.pe0_valid := io.fifo_valid && io.pe0_ready;\n",
    "  io.pe1_valid := io.fifo_valid && io.pe1_ready && !io.pe0_ready;\n",
    "    \n",
    "  // map fifo data outputs to the processing units\n",
    "  io.pe0_data := io.fifo_data;\n",
    "  io.pe1_data := io.fifo_data;\n",
    "}\n",
    "\n",
    "println(getVerilog(new Arbiter))\n",
    "visualize(() => new Arbiter)"
   ]
  },
  {
   "cell_type": "code",
   "execution_count": 14,
   "metadata": {},
   "outputs": [
    {
     "name": "stdout",
     "output_type": "stream",
     "text": [
      "Elaborating design...\n",
      "Done elaborating.\n",
      "test Arbiter Success: 0 tests passed in 2 cycles in 0.003153 seconds 634.26 Hz\n",
      "SUCCESS!!\n"
     ]
    }
   ],
   "source": [
    "test(new Arbiter) { c =>\n",
    "  import scala.util.Random\n",
    "  val data = Random.nextInt(65536)\n",
    "  c.io.fifo_data.poke(data.U)\n",
    "  \n",
    "  for (i <- 0 until 8) {\n",
    "    c.io.fifo_valid.poke((((i >> 0) % 2) != 0).B)\n",
    "    c.io.pe0_ready.poke((((i >> 1) % 2) != 0).B)\n",
    "    c.io.pe1_ready.poke((((i >> 2) % 2) != 0).B)\n",
    "\n",
    "    c.io.fifo_ready.expect((i > 1).B)\n",
    "    c.io.pe0_valid.expect((i == 3 || i == 7).B)\n",
    "    c.io.pe1_valid.expect((i == 5).B)\n",
    "    \n",
    "    if (i == 3 || i ==7) {\n",
    "      c.io.pe0_data.expect((data).U)\n",
    "    } else if (i == 5) {\n",
    "      c.io.pe1_data.expect((data).U)\n",
    "    }\n",
    "  }\n",
    "}\n",
    "println(\"SUCCESS!!\")"
   ]
  },
  {
   "cell_type": "markdown",
   "metadata": {},
   "source": [
    "<div id=\"container\"><section id=\"accordion\"><div>\n",
    "<input type=\"checkbox\" id=\"check-2\" />\n",
    "<label for=\"check-2\"><strong>Solution</strong></label>\n",
    "<article>\n",
    "<pre style=\"background-color:#f7f7f7\">\n",
    "  io.fifo_ready := io.pe0_ready || io.pe1_ready\n",
    "  io.pe0_valid := io.fifo_valid && io.pe0_ready\n",
    "  io.pe1_valid := io.fifo_valid && io.pe1_ready && !io.pe0_ready\n",
    "  io.pe0_data := io.fifo_data\n",
    "  io.pe1_data := io.fifo_data\n",
    "</pre></article></div></section></div>"
   ]
  },
  {
   "cell_type": "markdown",
   "metadata": {},
   "source": [
    "<span style=\"color:red\">**Exercise: Parameterized Adder (Optional)**</span><br>\n",
    "This optional exercise exposes you to one of the most powerful features of Chisel, it's parameterization capabilities. To demonstrate this, we'll construct a parameterized adder that can either saturate the output when overflow occurs, or truncate the results (i.e. wrap around).\n",
    "\n",
    "First, look at the `Module` below. The parameter we pass into it is called `saturate` and has type *Scala* `Boolean`. This is not a Chisel `Bool`. So, we're not creating a single hardware adder that can either saturate or truncate, but rather we're creating a *generator* that produces either a saturating hardware adder *or* a truncating hardware adder. The decision is made at compile time.\n",
    "\n",
    "Next, notice the inputs and outputs are all 4-bit `UInt`s. Chisel has built-in width inferencing, and if you look at the [cheatsheet](https://github.com/freechipsproject/chisel-cheatsheet/releases/latest/download/chisel_cheatsheet.pdf), you'll see that the bitwidth of a normal summation is equal to the maximum bitwidth of the two inputs. This means that\n",
    "\n",
    "```scala\n",
    "val sum = io.in_a + io.in_b\n",
    "```\n",
    "\n",
    "will make `sum` a 4-bit wire, and the value will be the truncated result for 4-bit inputs. To check if the summation should saturate, you need to place the result in a 5-bit wire. This can be done with the `+&` summation, as seen on the cheatsheet.\n",
    "\n",
    "```scala\n",
    "val sum = io.in_a +& io.in_b\n",
    "```\n",
    "\n",
    "Finally, note that connecting a 4-bit `UInt` wire to a 5-bit `UInt` wire will truncate the MSB by default. You can use this to easily truncate the 5-bit sum for the non-saturating adder."
   ]
  },
  {
   "cell_type": "code",
   "execution_count": 28,
   "metadata": {},
   "outputs": [
    {
     "name": "stdout",
     "output_type": "stream",
     "text": [
      "Elaborating design...\n",
      "Done elaborating.\n",
      "module ParameterizedAdder(\n",
      "  input        clock,\n",
      "  input        reset,\n",
      "  input  [3:0] io_in_a,\n",
      "  input  [3:0] io_in_b,\n",
      "  output [3:0] io_out\n",
      ");\n",
      "  wire [4:0] satSum = io_in_a + io_in_b; // @[cmd27.sc 8:24]\n",
      "  wire [4:0] _T_1 = satSum > 5'hf ? 5'hf : satSum; // @[cmd27.sc 10:20]\n",
      "  assign io_out = _T_1[3:0]; // @[cmd27.sc 10:14]\n",
      "endmodule\n"
     ]
    },
    {
     "data": {
      "text/plain": [
       "defined \u001b[32mclass\u001b[39m \u001b[36mParameterizedAdder\u001b[39m"
      ]
     },
     "execution_count": 28,
     "metadata": {},
     "output_type": "execute_result"
    }
   ],
   "source": [
    "class ParameterizedAdder(saturate: Boolean) extends Module {\n",
    "  val io = IO(new Bundle {\n",
    "    val in_a = Input(UInt(4.W))\n",
    "    val in_b = Input(UInt(4.W))\n",
    "    val out  = Output(UInt(4.W))\n",
    "  })\n",
    "\n",
    "  val satSum = io.in_a +& io.in_b;\n",
    "  if (saturate) {\n",
    "      io.out := Mux(satSum > 15.U, 15.U, satSum);\n",
    "  } else {\n",
    "      // saturation added\n",
    "      io.out := satSum;\n",
    "  }\n",
    "}\n",
    "\n",
    "print(getVerilog(new ParameterizedAdder(true)))"
   ]
  },
  {
   "cell_type": "code",
   "execution_count": 27,
   "metadata": {},
   "outputs": [
    {
     "name": "stdout",
     "output_type": "stream",
     "text": [
      "Elaborating design...\n",
      "Done elaborating.\n",
      "test ParameterizedAdder Success: 0 tests passed in 2 cycles in 0.003496 seconds 572.15 Hz\n",
      "Elaborating design...\n",
      "Done elaborating.\n",
      "test ParameterizedAdder Success: 0 tests passed in 2 cycles in 0.002243 seconds 891.74 Hz\n",
      "SUCCESS!!\n"
     ]
    }
   ],
   "source": [
    "for (saturate <- Seq(true, false)) {\n",
    "  test(new ParameterizedAdder(saturate)) { c =>\n",
    "    // 100 random tests\n",
    "    val cycles = 100\n",
    "    import scala.util.Random\n",
    "    import scala.math.min\n",
    "    for (i <- 0 until cycles) {\n",
    "      val in_a = Random.nextInt(16)\n",
    "      val in_b = Random.nextInt(16)\n",
    "      c.io.in_a.poke(in_a.U)\n",
    "      c.io.in_b.poke(in_b.U)\n",
    "      if (saturate) {\n",
    "        c.io.out.expect(min(in_a + in_b, 15).U)\n",
    "      } else {\n",
    "        c.io.out.expect(((in_a + in_b) % 16).U)\n",
    "      }\n",
    "    }\n",
    "    \n",
    "    // ensure we test saturation vs. truncation\n",
    "    c.io.in_a.poke(15.U)\n",
    "    c.io.in_b.poke(15.U)\n",
    "    if (saturate) {\n",
    "      c.io.out.expect(15.U)\n",
    "    } else {\n",
    "      c.io.out.expect(14.U)\n",
    "    }\n",
    "  }\n",
    "}\n",
    "println(\"SUCCESS!!\")"
   ]
  },
  {
   "cell_type": "markdown",
   "metadata": {},
   "source": [
    "<div id=\"container\"><section id=\"accordion\"><div>\n",
    "<input type=\"checkbox\" id=\"check-3\" />\n",
    "<label for=\"check-3\"><strong>Solution</strong></label>\n",
    "<article>\n",
    "<pre style=\"background-color:#f7f7f7\">\n",
    "  val sum = io.in_a +& io.in_b\n",
    "  if (saturate) {\n",
    "    io.out := Mux(sum > 15.U, 15.U, sum)\n",
    "  } else {\n",
    "    io.out := sum\n",
    "  }\n",
    "</pre></article></div></section></div>"
   ]
  },
  {
   "cell_type": "markdown",
   "metadata": {},
   "source": [
    "---\n",
    "# You're done!\n",
    "\n",
    "[Return to the top.](#top)"
   ]
  }
 ],
 "metadata": {
  "kernelspec": {
   "display_name": "Scala",
   "language": "scala",
   "name": "scala"
  },
  "language_info": {
   "codemirror_mode": "text/x-scala",
   "file_extension": ".sc",
   "mimetype": "text/x-scala",
   "name": "scala",
   "nbconvert_exporter": "script",
   "version": "2.12.8"
  }
 },
 "nbformat": 4,
 "nbformat_minor": 2
}
